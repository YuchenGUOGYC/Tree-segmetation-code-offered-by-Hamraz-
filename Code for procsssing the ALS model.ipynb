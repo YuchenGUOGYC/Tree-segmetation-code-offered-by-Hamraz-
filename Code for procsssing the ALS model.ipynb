{
 "cells": [
  {
   "cell_type": "markdown",
   "metadata": {},
   "source": [
    "If we want to process the txt file, the txt file should be classified into ground point (2) and off-ground point (5). What's more we need to normalize the intensity into range 0~255  "
   ]
  },
  {
   "cell_type": "code",
   "execution_count": 1,
   "metadata": {},
   "outputs": [],
   "source": [
    "import numpy as np\n",
    "import pandas as pd\n",
    "#import pylab as plt\n",
    "#%matplotlib inline"
   ]
  },
  {
   "cell_type": "code",
   "execution_count": 7,
   "metadata": {},
   "outputs": [
    {
     "name": "stdout",
     "output_type": "stream",
     "text": [
      "58.345\n",
      "-29.3959\n"
     ]
    }
   ],
   "source": [
    "#normalize the indensity\n",
    "ALS = np.loadtxt('ALS_wytham/WW_ALS_CENTRAL_1HA_FINAL.txt')\n",
    "z_als = []\n",
    "for i in range(len(ALS)):\n",
    "    z = ALS[i][2]\n",
    "    z_als.append(z)\n",
    "H = np.max(z_als)-np.min(z_als)\n",
    "print H\n",
    "hmin = min(z_als)\n",
    "print hmin"
   ]
  },
  {
   "cell_type": "code",
   "execution_count": 26,
   "metadata": {},
   "outputs": [],
   "source": [
    "#build necessary parameters for treesegemtation\n",
    "X_cc = []\n",
    "Y_cc = []\n",
    "Z_cc = []\n",
    "Class = []\n",
    "Intensity = []\n",
    "Return = []\n",
    "S_time = []"
   ]
  },
  {
   "cell_type": "code",
   "execution_count": 27,
   "metadata": {},
   "outputs": [
    {
     "name": "stdout",
     "output_type": "stream",
     "text": [
      "3987\n",
      "3987\n",
      "3987\n",
      "3987\n",
      "3987\n",
      "3987\n",
      "3987\n",
      "74962\n",
      "74962\n",
      "74962\n",
      "74962\n",
      "74962\n",
      "74962\n",
      "74962\n"
     ]
    }
   ],
   "source": [
    "#fill the  parameter as a csv file for the treesegmentation\n",
    "\n",
    "for index, line in enumerate(open('C:/Users/dell/Desktop/ground points_cut.txt', 'r').readlines()):\n",
    "    w1 = line.split(' ')\n",
    "    wa = w1[0].split(',')\n",
    "    X_cc.append(wa[0])\n",
    "    Y_cc.append(wa[1])\n",
    "    Z_cc.append(wa[2])\n",
    "    Class.append(2)\n",
    "    Intensity.append(int(255.*(float(wa[2])-hmin)/H))\n",
    "    Return.append(1)\n",
    "    S_time.append(' ')\n",
    "\n",
    "for index, line in enumerate(open('C:/Users/dell/Desktop/off-ground points_cut.txt', 'r').readlines()):\n",
    "    w2 = line.split(' ')\n",
    "    wb = w2[0].split(',')\n",
    "    X_cc.append(wb[0])\n",
    "    Y_cc.append(wb[1])\n",
    "    Z_cc.append(wb[2])\n",
    "    Class.append(5)\n",
    "    Intensity.append(int(255.*(float(wa[2])-hmin)/H))\n",
    "    Return.append(1)\n",
    "    S_time.append(' ') \n",
    "    \n",
    "\n",
    "x_cc = np.array(X_cc)\n",
    "\n",
    "y_cc = np.array(Y_cc)\n",
    "\n",
    "z_cc = np.array(Z_cc)\n",
    "\n",
    "class0 = np.array(Class)\n",
    "\n",
    "intensity = np.array(Intensity)\n",
    "\n",
    "return0 = np.array(Return)\n",
    "\n",
    "s_time = np.array(S_time)\n",
    "\n",
    "df = pd.DataFrame({\"X\" : x_cc, \"Y\" : y_cc, \"Z\": z_cc, \"Class\": class0, \"Intensity\": intensity, \"Return\":return0, \"S_time\": s_time})\n",
    "df.to_csv(\"cut_newclassification.csv\", index=False)"
   ]
  }
 ],
 "metadata": {
  "kernelspec": {
   "display_name": "Python 2",
   "language": "python",
   "name": "python2"
  },
  "language_info": {
   "codemirror_mode": {
    "name": "ipython",
    "version": 2
   },
   "file_extension": ".py",
   "mimetype": "text/x-python",
   "name": "python",
   "nbconvert_exporter": "python",
   "pygments_lexer": "ipython2",
   "version": "2.7.14"
  }
 },
 "nbformat": 4,
 "nbformat_minor": 2
}
